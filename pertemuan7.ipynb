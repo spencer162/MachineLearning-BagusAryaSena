{
 "cells": [
  {
   "cell_type": "code",
   "execution_count": 1,
   "id": "854f5864",
   "metadata": {},
   "outputs": [
    {
     "name": "stdout",
     "output_type": "stream",
     "text": [
      "(7, 5) (1, 5) (2, 5)\n"
     ]
    }
   ],
   "source": [
    "import pandas as pd\n",
    "from sklearn.model_selection import train_test_split\n",
    "from sklearn.preprocessing import StandardScaler\n",
    "\n",
    "df = pd.read_csv(\"processed_kelulusan.csv\")\n",
    "X = df.drop(\"Lulus\", axis=1)\n",
    "y = df[\"Lulus\"]\n",
    "\n",
    "sc = StandardScaler()\n",
    "Xs = sc.fit_transform(X)\n",
    "\n",
    "X_train, X_temp, y_train, y_temp = train_test_split(\n",
    "    Xs, y, test_size=0.3, stratify=y, random_state=42)\n",
    "X_val, X_test, y_val, y_test = train_test_split(\n",
    "    X_temp, y_temp, test_size=0.5, random_state=42)\n",
    "\n",
    "print(X_train.shape, X_val.shape, X_test.shape)"
   ]
  },
  {
   "cell_type": "code",
   "execution_count": 2,
   "id": "a0eafb82",
   "metadata": {},
   "outputs": [
    {
     "data": {
      "text/html": [
       "<pre style=\"white-space:pre;overflow-x:auto;line-height:normal;font-family:Menlo,'DejaVu Sans Mono',consolas,'Courier New',monospace\"><span style=\"font-weight: bold\">Model: \"sequential\"</span>\n",
       "</pre>\n"
      ],
      "text/plain": [
       "\u001b[1mModel: \"sequential\"\u001b[0m\n"
      ]
     },
     "metadata": {},
     "output_type": "display_data"
    },
    {
     "data": {
      "text/html": [
       "<pre style=\"white-space:pre;overflow-x:auto;line-height:normal;font-family:Menlo,'DejaVu Sans Mono',consolas,'Courier New',monospace\">┏━━━━━━━━━━━━━━━━━━━━━━━━━━━━━━━━━┳━━━━━━━━━━━━━━━━━━━━━━━━┳━━━━━━━━━━━━━━━┓\n",
       "┃<span style=\"font-weight: bold\"> Layer (type)                    </span>┃<span style=\"font-weight: bold\"> Output Shape           </span>┃<span style=\"font-weight: bold\">       Param # </span>┃\n",
       "┡━━━━━━━━━━━━━━━━━━━━━━━━━━━━━━━━━╇━━━━━━━━━━━━━━━━━━━━━━━━╇━━━━━━━━━━━━━━━┩\n",
       "│ dense (<span style=\"color: #0087ff; text-decoration-color: #0087ff\">Dense</span>)                   │ (<span style=\"color: #00d7ff; text-decoration-color: #00d7ff\">None</span>, <span style=\"color: #00af00; text-decoration-color: #00af00\">32</span>)             │           <span style=\"color: #00af00; text-decoration-color: #00af00\">192</span> │\n",
       "├─────────────────────────────────┼────────────────────────┼───────────────┤\n",
       "│ dropout (<span style=\"color: #0087ff; text-decoration-color: #0087ff\">Dropout</span>)               │ (<span style=\"color: #00d7ff; text-decoration-color: #00d7ff\">None</span>, <span style=\"color: #00af00; text-decoration-color: #00af00\">32</span>)             │             <span style=\"color: #00af00; text-decoration-color: #00af00\">0</span> │\n",
       "├─────────────────────────────────┼────────────────────────┼───────────────┤\n",
       "│ dense_1 (<span style=\"color: #0087ff; text-decoration-color: #0087ff\">Dense</span>)                 │ (<span style=\"color: #00d7ff; text-decoration-color: #00d7ff\">None</span>, <span style=\"color: #00af00; text-decoration-color: #00af00\">16</span>)             │           <span style=\"color: #00af00; text-decoration-color: #00af00\">528</span> │\n",
       "├─────────────────────────────────┼────────────────────────┼───────────────┤\n",
       "│ dense_2 (<span style=\"color: #0087ff; text-decoration-color: #0087ff\">Dense</span>)                 │ (<span style=\"color: #00d7ff; text-decoration-color: #00d7ff\">None</span>, <span style=\"color: #00af00; text-decoration-color: #00af00\">1</span>)              │            <span style=\"color: #00af00; text-decoration-color: #00af00\">17</span> │\n",
       "└─────────────────────────────────┴────────────────────────┴───────────────┘\n",
       "</pre>\n"
      ],
      "text/plain": [
       "┏━━━━━━━━━━━━━━━━━━━━━━━━━━━━━━━━━┳━━━━━━━━━━━━━━━━━━━━━━━━┳━━━━━━━━━━━━━━━┓\n",
       "┃\u001b[1m \u001b[0m\u001b[1mLayer (type)                   \u001b[0m\u001b[1m \u001b[0m┃\u001b[1m \u001b[0m\u001b[1mOutput Shape          \u001b[0m\u001b[1m \u001b[0m┃\u001b[1m \u001b[0m\u001b[1m      Param #\u001b[0m\u001b[1m \u001b[0m┃\n",
       "┡━━━━━━━━━━━━━━━━━━━━━━━━━━━━━━━━━╇━━━━━━━━━━━━━━━━━━━━━━━━╇━━━━━━━━━━━━━━━┩\n",
       "│ dense (\u001b[38;5;33mDense\u001b[0m)                   │ (\u001b[38;5;45mNone\u001b[0m, \u001b[38;5;34m32\u001b[0m)             │           \u001b[38;5;34m192\u001b[0m │\n",
       "├─────────────────────────────────┼────────────────────────┼───────────────┤\n",
       "│ dropout (\u001b[38;5;33mDropout\u001b[0m)               │ (\u001b[38;5;45mNone\u001b[0m, \u001b[38;5;34m32\u001b[0m)             │             \u001b[38;5;34m0\u001b[0m │\n",
       "├─────────────────────────────────┼────────────────────────┼───────────────┤\n",
       "│ dense_1 (\u001b[38;5;33mDense\u001b[0m)                 │ (\u001b[38;5;45mNone\u001b[0m, \u001b[38;5;34m16\u001b[0m)             │           \u001b[38;5;34m528\u001b[0m │\n",
       "├─────────────────────────────────┼────────────────────────┼───────────────┤\n",
       "│ dense_2 (\u001b[38;5;33mDense\u001b[0m)                 │ (\u001b[38;5;45mNone\u001b[0m, \u001b[38;5;34m1\u001b[0m)              │            \u001b[38;5;34m17\u001b[0m │\n",
       "└─────────────────────────────────┴────────────────────────┴───────────────┘\n"
      ]
     },
     "metadata": {},
     "output_type": "display_data"
    },
    {
     "data": {
      "text/html": [
       "<pre style=\"white-space:pre;overflow-x:auto;line-height:normal;font-family:Menlo,'DejaVu Sans Mono',consolas,'Courier New',monospace\"><span style=\"font-weight: bold\"> Total params: </span><span style=\"color: #00af00; text-decoration-color: #00af00\">737</span> (2.88 KB)\n",
       "</pre>\n"
      ],
      "text/plain": [
       "\u001b[1m Total params: \u001b[0m\u001b[38;5;34m737\u001b[0m (2.88 KB)\n"
      ]
     },
     "metadata": {},
     "output_type": "display_data"
    },
    {
     "data": {
      "text/html": [
       "<pre style=\"white-space:pre;overflow-x:auto;line-height:normal;font-family:Menlo,'DejaVu Sans Mono',consolas,'Courier New',monospace\"><span style=\"font-weight: bold\"> Trainable params: </span><span style=\"color: #00af00; text-decoration-color: #00af00\">737</span> (2.88 KB)\n",
       "</pre>\n"
      ],
      "text/plain": [
       "\u001b[1m Trainable params: \u001b[0m\u001b[38;5;34m737\u001b[0m (2.88 KB)\n"
      ]
     },
     "metadata": {},
     "output_type": "display_data"
    },
    {
     "data": {
      "text/html": [
       "<pre style=\"white-space:pre;overflow-x:auto;line-height:normal;font-family:Menlo,'DejaVu Sans Mono',consolas,'Courier New',monospace\"><span style=\"font-weight: bold\"> Non-trainable params: </span><span style=\"color: #00af00; text-decoration-color: #00af00\">0</span> (0.00 B)\n",
       "</pre>\n"
      ],
      "text/plain": [
       "\u001b[1m Non-trainable params: \u001b[0m\u001b[38;5;34m0\u001b[0m (0.00 B)\n"
      ]
     },
     "metadata": {},
     "output_type": "display_data"
    }
   ],
   "source": [
    "import tensorflow as tf\n",
    "from tensorflow import keras\n",
    "from tensorflow.keras import layers\n",
    "\n",
    "model = keras.Sequential([\n",
    "    layers.Input(shape=(X_train.shape[1],)),\n",
    "    layers.Dense(32, activation=\"relu\"),\n",
    "    layers.Dropout(0.3),\n",
    "    layers.Dense(16, activation=\"relu\"),\n",
    "    layers.Dense(1, activation=\"sigmoid\")  # klasifikasi biner\n",
    "])\n",
    "\n",
    "model.compile(optimizer=keras.optimizers.Adam(1e-3),\n",
    "              loss=\"binary_crossentropy\",\n",
    "              metrics=[\"accuracy\",\"AUC\"])\n",
    "model.summary()"
   ]
  },
  {
   "cell_type": "code",
   "execution_count": 3,
   "id": "8cbd6ade",
   "metadata": {},
   "outputs": [
    {
     "name": "stdout",
     "output_type": "stream",
     "text": [
      "Epoch 1/100\n",
      "\u001b[1m1/1\u001b[0m \u001b[32m━━━━━━━━━━━━━━━━━━━━\u001b[0m\u001b[37m\u001b[0m \u001b[1m2s\u001b[0m 2s/step - AUC: 0.0000e+00 - accuracy: 0.0000e+00 - loss: 0.8460 - val_AUC: 0.0000e+00 - val_accuracy: 0.0000e+00 - val_loss: 0.8312\n",
      "Epoch 2/100\n",
      "\u001b[1m1/1\u001b[0m \u001b[32m━━━━━━━━━━━━━━━━━━━━\u001b[0m\u001b[37m\u001b[0m \u001b[1m0s\u001b[0m 104ms/step - AUC: 0.2917 - accuracy: 0.4286 - loss: 0.8010 - val_AUC: 0.0000e+00 - val_accuracy: 0.0000e+00 - val_loss: 0.8207\n",
      "Epoch 3/100\n",
      "\u001b[1m1/1\u001b[0m \u001b[32m━━━━━━━━━━━━━━━━━━━━\u001b[0m\u001b[37m\u001b[0m \u001b[1m0s\u001b[0m 99ms/step - AUC: 0.1667 - accuracy: 0.1429 - loss: 0.8169 - val_AUC: 0.0000e+00 - val_accuracy: 0.0000e+00 - val_loss: 0.8104\n",
      "Epoch 4/100\n",
      "\u001b[1m1/1\u001b[0m \u001b[32m━━━━━━━━━━━━━━━━━━━━\u001b[0m\u001b[37m\u001b[0m \u001b[1m0s\u001b[0m 102ms/step - AUC: 0.0000e+00 - accuracy: 0.0000e+00 - loss: 0.8953 - val_AUC: 0.0000e+00 - val_accuracy: 0.0000e+00 - val_loss: 0.8002\n",
      "Epoch 5/100\n",
      "\u001b[1m1/1\u001b[0m \u001b[32m━━━━━━━━━━━━━━━━━━━━\u001b[0m\u001b[37m\u001b[0m \u001b[1m0s\u001b[0m 109ms/step - AUC: 0.0833 - accuracy: 0.1429 - loss: 0.8144 - val_AUC: 0.0000e+00 - val_accuracy: 0.0000e+00 - val_loss: 0.7900\n",
      "Epoch 6/100\n",
      "\u001b[1m1/1\u001b[0m \u001b[32m━━━━━━━━━━━━━━━━━━━━\u001b[0m\u001b[37m\u001b[0m \u001b[1m0s\u001b[0m 107ms/step - AUC: 0.1667 - accuracy: 0.2857 - loss: 0.8543 - val_AUC: 0.0000e+00 - val_accuracy: 0.0000e+00 - val_loss: 0.7800\n",
      "Epoch 7/100\n",
      "\u001b[1m1/1\u001b[0m \u001b[32m━━━━━━━━━━━━━━━━━━━━\u001b[0m\u001b[37m\u001b[0m \u001b[1m0s\u001b[0m 139ms/step - AUC: 0.7500 - accuracy: 0.7143 - loss: 0.6238 - val_AUC: 0.0000e+00 - val_accuracy: 0.0000e+00 - val_loss: 0.7695\n",
      "Epoch 8/100\n",
      "\u001b[1m1/1\u001b[0m \u001b[32m━━━━━━━━━━━━━━━━━━━━\u001b[0m\u001b[37m\u001b[0m \u001b[1m0s\u001b[0m 111ms/step - AUC: 0.4167 - accuracy: 0.2857 - loss: 0.8228 - val_AUC: 0.0000e+00 - val_accuracy: 0.0000e+00 - val_loss: 0.7597\n",
      "Epoch 9/100\n",
      "\u001b[1m1/1\u001b[0m \u001b[32m━━━━━━━━━━━━━━━━━━━━\u001b[0m\u001b[37m\u001b[0m \u001b[1m0s\u001b[0m 110ms/step - AUC: 0.5833 - accuracy: 0.5714 - loss: 0.7414 - val_AUC: 0.0000e+00 - val_accuracy: 0.0000e+00 - val_loss: 0.7499\n",
      "Epoch 10/100\n",
      "\u001b[1m1/1\u001b[0m \u001b[32m━━━━━━━━━━━━━━━━━━━━\u001b[0m\u001b[37m\u001b[0m \u001b[1m0s\u001b[0m 110ms/step - AUC: 1.0000 - accuracy: 0.5714 - loss: 0.6226 - val_AUC: 0.0000e+00 - val_accuracy: 0.0000e+00 - val_loss: 0.7403\n",
      "Epoch 11/100\n",
      "\u001b[1m1/1\u001b[0m \u001b[32m━━━━━━━━━━━━━━━━━━━━\u001b[0m\u001b[37m\u001b[0m \u001b[1m0s\u001b[0m 114ms/step - AUC: 0.3750 - accuracy: 0.2857 - loss: 0.7581 - val_AUC: 0.0000e+00 - val_accuracy: 0.0000e+00 - val_loss: 0.7312\n",
      "Epoch 12/100\n",
      "\u001b[1m1/1\u001b[0m \u001b[32m━━━━━━━━━━━━━━━━━━━━\u001b[0m\u001b[37m\u001b[0m \u001b[1m0s\u001b[0m 116ms/step - AUC: 0.8750 - accuracy: 0.5714 - loss: 0.6346 - val_AUC: 0.0000e+00 - val_accuracy: 0.0000e+00 - val_loss: 0.7222\n",
      "Epoch 13/100\n",
      "\u001b[1m1/1\u001b[0m \u001b[32m━━━━━━━━━━━━━━━━━━━━\u001b[0m\u001b[37m\u001b[0m \u001b[1m0s\u001b[0m 106ms/step - AUC: 0.2500 - accuracy: 0.1429 - loss: 0.8018 - val_AUC: 0.0000e+00 - val_accuracy: 0.0000e+00 - val_loss: 0.7132\n",
      "Epoch 14/100\n",
      "\u001b[1m1/1\u001b[0m \u001b[32m━━━━━━━━━━━━━━━━━━━━\u001b[0m\u001b[37m\u001b[0m \u001b[1m0s\u001b[0m 110ms/step - AUC: 0.2500 - accuracy: 0.4286 - loss: 0.8196 - val_AUC: 0.0000e+00 - val_accuracy: 0.0000e+00 - val_loss: 0.7044\n",
      "Epoch 15/100\n",
      "\u001b[1m1/1\u001b[0m \u001b[32m━━━━━━━━━━━━━━━━━━━━\u001b[0m\u001b[37m\u001b[0m \u001b[1m0s\u001b[0m 107ms/step - AUC: 0.6667 - accuracy: 0.4286 - loss: 0.6420 - val_AUC: 0.0000e+00 - val_accuracy: 0.0000e+00 - val_loss: 0.6959\n",
      "Epoch 16/100\n",
      "\u001b[1m1/1\u001b[0m \u001b[32m━━━━━━━━━━━━━━━━━━━━\u001b[0m\u001b[37m\u001b[0m \u001b[1m0s\u001b[0m 123ms/step - AUC: 0.6667 - accuracy: 0.4286 - loss: 0.7223 - val_AUC: 0.0000e+00 - val_accuracy: 1.0000 - val_loss: 0.6876\n",
      "Epoch 17/100\n",
      "\u001b[1m1/1\u001b[0m \u001b[32m━━━━━━━━━━━━━━━━━━━━\u001b[0m\u001b[37m\u001b[0m \u001b[1m0s\u001b[0m 118ms/step - AUC: 0.9167 - accuracy: 0.5714 - loss: 0.5868 - val_AUC: 0.0000e+00 - val_accuracy: 1.0000 - val_loss: 0.6795\n",
      "Epoch 18/100\n",
      "\u001b[1m1/1\u001b[0m \u001b[32m━━━━━━━━━━━━━━━━━━━━\u001b[0m\u001b[37m\u001b[0m \u001b[1m0s\u001b[0m 112ms/step - AUC: 0.3333 - accuracy: 0.2857 - loss: 0.7258 - val_AUC: 0.0000e+00 - val_accuracy: 1.0000 - val_loss: 0.6716\n",
      "Epoch 19/100\n",
      "\u001b[1m1/1\u001b[0m \u001b[32m━━━━━━━━━━━━━━━━━━━━\u001b[0m\u001b[37m\u001b[0m \u001b[1m0s\u001b[0m 114ms/step - AUC: 0.6667 - accuracy: 0.7143 - loss: 0.6343 - val_AUC: 0.0000e+00 - val_accuracy: 1.0000 - val_loss: 0.6635\n",
      "Epoch 20/100\n",
      "\u001b[1m1/1\u001b[0m \u001b[32m━━━━━━━━━━━━━━━━━━━━\u001b[0m\u001b[37m\u001b[0m \u001b[1m0s\u001b[0m 112ms/step - AUC: 0.5833 - accuracy: 0.4286 - loss: 0.6759 - val_AUC: 0.0000e+00 - val_accuracy: 1.0000 - val_loss: 0.6558\n",
      "Epoch 21/100\n",
      "\u001b[1m1/1\u001b[0m \u001b[32m━━━━━━━━━━━━━━━━━━━━\u001b[0m\u001b[37m\u001b[0m \u001b[1m0s\u001b[0m 107ms/step - AUC: 1.0000 - accuracy: 0.5714 - loss: 0.6368 - val_AUC: 0.0000e+00 - val_accuracy: 1.0000 - val_loss: 0.6487\n",
      "Epoch 22/100\n",
      "\u001b[1m1/1\u001b[0m \u001b[32m━━━━━━━━━━━━━━━━━━━━\u001b[0m\u001b[37m\u001b[0m \u001b[1m0s\u001b[0m 93ms/step - AUC: 0.7500 - accuracy: 0.7143 - loss: 0.5976 - val_AUC: 0.0000e+00 - val_accuracy: 1.0000 - val_loss: 0.6417\n",
      "Epoch 23/100\n",
      "\u001b[1m1/1\u001b[0m \u001b[32m━━━━━━━━━━━━━━━━━━━━\u001b[0m\u001b[37m\u001b[0m \u001b[1m0s\u001b[0m 108ms/step - AUC: 1.0000 - accuracy: 0.8571 - loss: 0.5345 - val_AUC: 0.0000e+00 - val_accuracy: 1.0000 - val_loss: 0.6348\n",
      "Epoch 24/100\n",
      "\u001b[1m1/1\u001b[0m \u001b[32m━━━━━━━━━━━━━━━━━━━━\u001b[0m\u001b[37m\u001b[0m \u001b[1m0s\u001b[0m 109ms/step - AUC: 0.9167 - accuracy: 0.7143 - loss: 0.5756 - val_AUC: 0.0000e+00 - val_accuracy: 1.0000 - val_loss: 0.6277\n",
      "Epoch 25/100\n",
      "\u001b[1m1/1\u001b[0m \u001b[32m━━━━━━━━━━━━━━━━━━━━\u001b[0m\u001b[37m\u001b[0m \u001b[1m0s\u001b[0m 108ms/step - AUC: 0.9583 - accuracy: 1.0000 - loss: 0.6097 - val_AUC: 0.0000e+00 - val_accuracy: 1.0000 - val_loss: 0.6207\n",
      "Epoch 26/100\n",
      "\u001b[1m1/1\u001b[0m \u001b[32m━━━━━━━━━━━━━━━━━━━━\u001b[0m\u001b[37m\u001b[0m \u001b[1m0s\u001b[0m 105ms/step - AUC: 1.0000 - accuracy: 0.8571 - loss: 0.5615 - val_AUC: 0.0000e+00 - val_accuracy: 1.0000 - val_loss: 0.6137\n",
      "Epoch 27/100\n",
      "\u001b[1m1/1\u001b[0m \u001b[32m━━━━━━━━━━━━━━━━━━━━\u001b[0m\u001b[37m\u001b[0m \u001b[1m0s\u001b[0m 109ms/step - AUC: 1.0000 - accuracy: 0.8571 - loss: 0.5208 - val_AUC: 0.0000e+00 - val_accuracy: 1.0000 - val_loss: 0.6068\n",
      "Epoch 28/100\n",
      "\u001b[1m1/1\u001b[0m \u001b[32m━━━━━━━━━━━━━━━━━━━━\u001b[0m\u001b[37m\u001b[0m \u001b[1m0s\u001b[0m 137ms/step - AUC: 1.0000 - accuracy: 0.7143 - loss: 0.5750 - val_AUC: 0.0000e+00 - val_accuracy: 1.0000 - val_loss: 0.6000\n",
      "Epoch 29/100\n",
      "\u001b[1m1/1\u001b[0m \u001b[32m━━━━━━━━━━━━━━━━━━━━\u001b[0m\u001b[37m\u001b[0m \u001b[1m0s\u001b[0m 117ms/step - AUC: 0.9583 - accuracy: 0.7143 - loss: 0.5799 - val_AUC: 0.0000e+00 - val_accuracy: 1.0000 - val_loss: 0.5933\n",
      "Epoch 30/100\n",
      "\u001b[1m1/1\u001b[0m \u001b[32m━━━━━━━━━━━━━━━━━━━━\u001b[0m\u001b[37m\u001b[0m \u001b[1m0s\u001b[0m 112ms/step - AUC: 1.0000 - accuracy: 1.0000 - loss: 0.4804 - val_AUC: 0.0000e+00 - val_accuracy: 1.0000 - val_loss: 0.5868\n",
      "Epoch 31/100\n",
      "\u001b[1m1/1\u001b[0m \u001b[32m━━━━━━━━━━━━━━━━━━━━\u001b[0m\u001b[37m\u001b[0m \u001b[1m0s\u001b[0m 107ms/step - AUC: 1.0000 - accuracy: 1.0000 - loss: 0.5065 - val_AUC: 0.0000e+00 - val_accuracy: 1.0000 - val_loss: 0.5803\n",
      "Epoch 32/100\n",
      "\u001b[1m1/1\u001b[0m \u001b[32m━━━━━━━━━━━━━━━━━━━━\u001b[0m\u001b[37m\u001b[0m \u001b[1m0s\u001b[0m 109ms/step - AUC: 1.0000 - accuracy: 0.8571 - loss: 0.5432 - val_AUC: 0.0000e+00 - val_accuracy: 1.0000 - val_loss: 0.5738\n",
      "Epoch 33/100\n",
      "\u001b[1m1/1\u001b[0m \u001b[32m━━━━━━━━━━━━━━━━━━━━\u001b[0m\u001b[37m\u001b[0m \u001b[1m0s\u001b[0m 113ms/step - AUC: 1.0000 - accuracy: 1.0000 - loss: 0.4915 - val_AUC: 0.0000e+00 - val_accuracy: 1.0000 - val_loss: 0.5676\n",
      "Epoch 34/100\n",
      "\u001b[1m1/1\u001b[0m \u001b[32m━━━━━━━━━━━━━━━━━━━━\u001b[0m\u001b[37m\u001b[0m \u001b[1m0s\u001b[0m 115ms/step - AUC: 1.0000 - accuracy: 1.0000 - loss: 0.4619 - val_AUC: 0.0000e+00 - val_accuracy: 1.0000 - val_loss: 0.5615\n",
      "Epoch 35/100\n",
      "\u001b[1m1/1\u001b[0m \u001b[32m━━━━━━━━━━━━━━━━━━━━\u001b[0m\u001b[37m\u001b[0m \u001b[1m0s\u001b[0m 106ms/step - AUC: 1.0000 - accuracy: 1.0000 - loss: 0.4571 - val_AUC: 0.0000e+00 - val_accuracy: 1.0000 - val_loss: 0.5557\n",
      "Epoch 36/100\n",
      "\u001b[1m1/1\u001b[0m \u001b[32m━━━━━━━━━━━━━━━━━━━━\u001b[0m\u001b[37m\u001b[0m \u001b[1m0s\u001b[0m 104ms/step - AUC: 1.0000 - accuracy: 0.8571 - loss: 0.4917 - val_AUC: 0.0000e+00 - val_accuracy: 1.0000 - val_loss: 0.5501\n",
      "Epoch 37/100\n",
      "\u001b[1m1/1\u001b[0m \u001b[32m━━━━━━━━━━━━━━━━━━━━\u001b[0m\u001b[37m\u001b[0m \u001b[1m0s\u001b[0m 111ms/step - AUC: 1.0000 - accuracy: 1.0000 - loss: 0.4693 - val_AUC: 0.0000e+00 - val_accuracy: 1.0000 - val_loss: 0.5444\n",
      "Epoch 38/100\n",
      "\u001b[1m1/1\u001b[0m \u001b[32m━━━━━━━━━━━━━━━━━━━━\u001b[0m\u001b[37m\u001b[0m \u001b[1m0s\u001b[0m 106ms/step - AUC: 1.0000 - accuracy: 1.0000 - loss: 0.3971 - val_AUC: 0.0000e+00 - val_accuracy: 1.0000 - val_loss: 0.5388\n",
      "Epoch 39/100\n",
      "\u001b[1m1/1\u001b[0m \u001b[32m━━━━━━━━━━━━━━━━━━━━\u001b[0m\u001b[37m\u001b[0m \u001b[1m0s\u001b[0m 105ms/step - AUC: 1.0000 - accuracy: 1.0000 - loss: 0.3767 - val_AUC: 0.0000e+00 - val_accuracy: 1.0000 - val_loss: 0.5332\n",
      "Epoch 40/100\n",
      "\u001b[1m1/1\u001b[0m \u001b[32m━━━━━━━━━━━━━━━━━━━━\u001b[0m\u001b[37m\u001b[0m \u001b[1m0s\u001b[0m 103ms/step - AUC: 1.0000 - accuracy: 1.0000 - loss: 0.4225 - val_AUC: 0.0000e+00 - val_accuracy: 1.0000 - val_loss: 0.5276\n",
      "Epoch 41/100\n",
      "\u001b[1m1/1\u001b[0m \u001b[32m━━━━━━━━━━━━━━━━━━━━\u001b[0m\u001b[37m\u001b[0m \u001b[1m0s\u001b[0m 108ms/step - AUC: 1.0000 - accuracy: 1.0000 - loss: 0.4435 - val_AUC: 0.0000e+00 - val_accuracy: 1.0000 - val_loss: 0.5221\n",
      "Epoch 42/100\n",
      "\u001b[1m1/1\u001b[0m \u001b[32m━━━━━━━━━━━━━━━━━━━━\u001b[0m\u001b[37m\u001b[0m \u001b[1m0s\u001b[0m 111ms/step - AUC: 1.0000 - accuracy: 0.8571 - loss: 0.4888 - val_AUC: 0.0000e+00 - val_accuracy: 1.0000 - val_loss: 0.5166\n",
      "Epoch 43/100\n",
      "\u001b[1m1/1\u001b[0m \u001b[32m━━━━━━━━━━━━━━━━━━━━\u001b[0m\u001b[37m\u001b[0m \u001b[1m0s\u001b[0m 104ms/step - AUC: 1.0000 - accuracy: 1.0000 - loss: 0.4586 - val_AUC: 0.0000e+00 - val_accuracy: 1.0000 - val_loss: 0.5111\n",
      "Epoch 44/100\n",
      "\u001b[1m1/1\u001b[0m \u001b[32m━━━━━━━━━━━━━━━━━━━━\u001b[0m\u001b[37m\u001b[0m \u001b[1m0s\u001b[0m 107ms/step - AUC: 1.0000 - accuracy: 1.0000 - loss: 0.4251 - val_AUC: 0.0000e+00 - val_accuracy: 1.0000 - val_loss: 0.5057\n",
      "Epoch 45/100\n",
      "\u001b[1m1/1\u001b[0m \u001b[32m━━━━━━━━━━━━━━━━━━━━\u001b[0m\u001b[37m\u001b[0m \u001b[1m0s\u001b[0m 104ms/step - AUC: 1.0000 - accuracy: 1.0000 - loss: 0.4252 - val_AUC: 0.0000e+00 - val_accuracy: 1.0000 - val_loss: 0.5003\n",
      "Epoch 46/100\n",
      "\u001b[1m1/1\u001b[0m \u001b[32m━━━━━━━━━━━━━━━━━━━━\u001b[0m\u001b[37m\u001b[0m \u001b[1m0s\u001b[0m 108ms/step - AUC: 1.0000 - accuracy: 1.0000 - loss: 0.4260 - val_AUC: 0.0000e+00 - val_accuracy: 1.0000 - val_loss: 0.4951\n",
      "Epoch 47/100\n",
      "\u001b[1m1/1\u001b[0m \u001b[32m━━━━━━━━━━━━━━━━━━━━\u001b[0m\u001b[37m\u001b[0m \u001b[1m0s\u001b[0m 111ms/step - AUC: 1.0000 - accuracy: 1.0000 - loss: 0.3886 - val_AUC: 0.0000e+00 - val_accuracy: 1.0000 - val_loss: 0.4899\n",
      "Epoch 48/100\n",
      "\u001b[1m1/1\u001b[0m \u001b[32m━━━━━━━━━━━━━━━━━━━━\u001b[0m\u001b[37m\u001b[0m \u001b[1m0s\u001b[0m 105ms/step - AUC: 1.0000 - accuracy: 1.0000 - loss: 0.4437 - val_AUC: 0.0000e+00 - val_accuracy: 1.0000 - val_loss: 0.4847\n",
      "Epoch 49/100\n",
      "\u001b[1m1/1\u001b[0m \u001b[32m━━━━━━━━━━━━━━━━━━━━\u001b[0m\u001b[37m\u001b[0m \u001b[1m0s\u001b[0m 103ms/step - AUC: 1.0000 - accuracy: 1.0000 - loss: 0.3523 - val_AUC: 0.0000e+00 - val_accuracy: 1.0000 - val_loss: 0.4794\n",
      "Epoch 50/100\n",
      "\u001b[1m1/1\u001b[0m \u001b[32m━━━━━━━━━━━━━━━━━━━━\u001b[0m\u001b[37m\u001b[0m \u001b[1m0s\u001b[0m 113ms/step - AUC: 1.0000 - accuracy: 1.0000 - loss: 0.3462 - val_AUC: 0.0000e+00 - val_accuracy: 1.0000 - val_loss: 0.4742\n",
      "Epoch 51/100\n",
      "\u001b[1m1/1\u001b[0m \u001b[32m━━━━━━━━━━━━━━━━━━━━\u001b[0m\u001b[37m\u001b[0m \u001b[1m0s\u001b[0m 106ms/step - AUC: 1.0000 - accuracy: 1.0000 - loss: 0.3283 - val_AUC: 0.0000e+00 - val_accuracy: 1.0000 - val_loss: 0.4690\n",
      "Epoch 52/100\n",
      "\u001b[1m1/1\u001b[0m \u001b[32m━━━━━━━━━━━━━━━━━━━━\u001b[0m\u001b[37m\u001b[0m \u001b[1m0s\u001b[0m 107ms/step - AUC: 1.0000 - accuracy: 1.0000 - loss: 0.3120 - val_AUC: 0.0000e+00 - val_accuracy: 1.0000 - val_loss: 0.4638\n",
      "Epoch 53/100\n",
      "\u001b[1m1/1\u001b[0m \u001b[32m━━━━━━━━━━━━━━━━━━━━\u001b[0m\u001b[37m\u001b[0m \u001b[1m0s\u001b[0m 105ms/step - AUC: 1.0000 - accuracy: 1.0000 - loss: 0.4060 - val_AUC: 0.0000e+00 - val_accuracy: 1.0000 - val_loss: 0.4587\n",
      "Epoch 54/100\n",
      "\u001b[1m1/1\u001b[0m \u001b[32m━━━━━━━━━━━━━━━━━━━━\u001b[0m\u001b[37m\u001b[0m \u001b[1m0s\u001b[0m 109ms/step - AUC: 1.0000 - accuracy: 1.0000 - loss: 0.3932 - val_AUC: 0.0000e+00 - val_accuracy: 1.0000 - val_loss: 0.4537\n",
      "Epoch 55/100\n",
      "\u001b[1m1/1\u001b[0m \u001b[32m━━━━━━━━━━━━━━━━━━━━\u001b[0m\u001b[37m\u001b[0m \u001b[1m0s\u001b[0m 105ms/step - AUC: 1.0000 - accuracy: 1.0000 - loss: 0.3142 - val_AUC: 0.0000e+00 - val_accuracy: 1.0000 - val_loss: 0.4485\n",
      "Epoch 56/100\n",
      "\u001b[1m1/1\u001b[0m \u001b[32m━━━━━━━━━━━━━━━━━━━━\u001b[0m\u001b[37m\u001b[0m \u001b[1m0s\u001b[0m 109ms/step - AUC: 1.0000 - accuracy: 1.0000 - loss: 0.3259 - val_AUC: 0.0000e+00 - val_accuracy: 1.0000 - val_loss: 0.4434\n",
      "Epoch 57/100\n",
      "\u001b[1m1/1\u001b[0m \u001b[32m━━━━━━━━━━━━━━━━━━━━\u001b[0m\u001b[37m\u001b[0m \u001b[1m0s\u001b[0m 106ms/step - AUC: 1.0000 - accuracy: 1.0000 - loss: 0.3924 - val_AUC: 0.0000e+00 - val_accuracy: 1.0000 - val_loss: 0.4384\n",
      "Epoch 58/100\n",
      "\u001b[1m1/1\u001b[0m \u001b[32m━━━━━━━━━━━━━━━━━━━━\u001b[0m\u001b[37m\u001b[0m \u001b[1m0s\u001b[0m 106ms/step - AUC: 1.0000 - accuracy: 1.0000 - loss: 0.3383 - val_AUC: 0.0000e+00 - val_accuracy: 1.0000 - val_loss: 0.4335\n",
      "Epoch 59/100\n",
      "\u001b[1m1/1\u001b[0m \u001b[32m━━━━━━━━━━━━━━━━━━━━\u001b[0m\u001b[37m\u001b[0m \u001b[1m0s\u001b[0m 107ms/step - AUC: 1.0000 - accuracy: 1.0000 - loss: 0.3474 - val_AUC: 0.0000e+00 - val_accuracy: 1.0000 - val_loss: 0.4286\n",
      "Epoch 60/100\n",
      "\u001b[1m1/1\u001b[0m \u001b[32m━━━━━━━━━━━━━━━━━━━━\u001b[0m\u001b[37m\u001b[0m \u001b[1m0s\u001b[0m 148ms/step - AUC: 1.0000 - accuracy: 1.0000 - loss: 0.3329 - val_AUC: 0.0000e+00 - val_accuracy: 1.0000 - val_loss: 0.4238\n",
      "Epoch 61/100\n",
      "\u001b[1m1/1\u001b[0m \u001b[32m━━━━━━━━━━━━━━━━━━━━\u001b[0m\u001b[37m\u001b[0m \u001b[1m0s\u001b[0m 124ms/step - AUC: 1.0000 - accuracy: 1.0000 - loss: 0.3369 - val_AUC: 0.0000e+00 - val_accuracy: 1.0000 - val_loss: 0.4189\n",
      "Epoch 62/100\n",
      "\u001b[1m1/1\u001b[0m \u001b[32m━━━━━━━━━━━━━━━━━━━━\u001b[0m\u001b[37m\u001b[0m \u001b[1m0s\u001b[0m 109ms/step - AUC: 1.0000 - accuracy: 1.0000 - loss: 0.3882 - val_AUC: 0.0000e+00 - val_accuracy: 1.0000 - val_loss: 0.4140\n",
      "Epoch 63/100\n",
      "\u001b[1m1/1\u001b[0m \u001b[32m━━━━━━━━━━━━━━━━━━━━\u001b[0m\u001b[37m\u001b[0m \u001b[1m0s\u001b[0m 104ms/step - AUC: 1.0000 - accuracy: 1.0000 - loss: 0.3079 - val_AUC: 0.0000e+00 - val_accuracy: 1.0000 - val_loss: 0.4091\n",
      "Epoch 64/100\n",
      "\u001b[1m1/1\u001b[0m \u001b[32m━━━━━━━━━━━━━━━━━━━━\u001b[0m\u001b[37m\u001b[0m \u001b[1m0s\u001b[0m 107ms/step - AUC: 1.0000 - accuracy: 1.0000 - loss: 0.3259 - val_AUC: 0.0000e+00 - val_accuracy: 1.0000 - val_loss: 0.4041\n",
      "Epoch 65/100\n",
      "\u001b[1m1/1\u001b[0m \u001b[32m━━━━━━━━━━━━━━━━━━━━\u001b[0m\u001b[37m\u001b[0m \u001b[1m0s\u001b[0m 109ms/step - AUC: 1.0000 - accuracy: 1.0000 - loss: 0.2643 - val_AUC: 0.0000e+00 - val_accuracy: 1.0000 - val_loss: 0.3992\n",
      "Epoch 66/100\n",
      "\u001b[1m1/1\u001b[0m \u001b[32m━━━━━━━━━━━━━━━━━━━━\u001b[0m\u001b[37m\u001b[0m \u001b[1m0s\u001b[0m 108ms/step - AUC: 1.0000 - accuracy: 1.0000 - loss: 0.2615 - val_AUC: 0.0000e+00 - val_accuracy: 1.0000 - val_loss: 0.3943\n",
      "Epoch 67/100\n",
      "\u001b[1m1/1\u001b[0m \u001b[32m━━━━━━━━━━━━━━━━━━━━\u001b[0m\u001b[37m\u001b[0m \u001b[1m0s\u001b[0m 112ms/step - AUC: 1.0000 - accuracy: 1.0000 - loss: 0.3988 - val_AUC: 0.0000e+00 - val_accuracy: 1.0000 - val_loss: 0.3895\n",
      "Epoch 68/100\n",
      "\u001b[1m1/1\u001b[0m \u001b[32m━━━━━━━━━━━━━━━━━━━━\u001b[0m\u001b[37m\u001b[0m \u001b[1m0s\u001b[0m 104ms/step - AUC: 1.0000 - accuracy: 1.0000 - loss: 0.3360 - val_AUC: 0.0000e+00 - val_accuracy: 1.0000 - val_loss: 0.3846\n",
      "Epoch 69/100\n",
      "\u001b[1m1/1\u001b[0m \u001b[32m━━━━━━━━━━━━━━━━━━━━\u001b[0m\u001b[37m\u001b[0m \u001b[1m0s\u001b[0m 107ms/step - AUC: 1.0000 - accuracy: 1.0000 - loss: 0.3203 - val_AUC: 0.0000e+00 - val_accuracy: 1.0000 - val_loss: 0.3798\n",
      "Epoch 70/100\n",
      "\u001b[1m1/1\u001b[0m \u001b[32m━━━━━━━━━━━━━━━━━━━━\u001b[0m\u001b[37m\u001b[0m \u001b[1m0s\u001b[0m 106ms/step - AUC: 1.0000 - accuracy: 1.0000 - loss: 0.2748 - val_AUC: 0.0000e+00 - val_accuracy: 1.0000 - val_loss: 0.3750\n",
      "Epoch 71/100\n",
      "\u001b[1m1/1\u001b[0m \u001b[32m━━━━━━━━━━━━━━━━━━━━\u001b[0m\u001b[37m\u001b[0m \u001b[1m0s\u001b[0m 105ms/step - AUC: 1.0000 - accuracy: 1.0000 - loss: 0.3258 - val_AUC: 0.0000e+00 - val_accuracy: 1.0000 - val_loss: 0.3702\n",
      "Epoch 72/100\n",
      "\u001b[1m1/1\u001b[0m \u001b[32m━━━━━━━━━━━━━━━━━━━━\u001b[0m\u001b[37m\u001b[0m \u001b[1m0s\u001b[0m 110ms/step - AUC: 1.0000 - accuracy: 1.0000 - loss: 0.2937 - val_AUC: 0.0000e+00 - val_accuracy: 1.0000 - val_loss: 0.3654\n",
      "Epoch 73/100\n",
      "\u001b[1m1/1\u001b[0m \u001b[32m━━━━━━━━━━━━━━━━━━━━\u001b[0m\u001b[37m\u001b[0m \u001b[1m0s\u001b[0m 107ms/step - AUC: 1.0000 - accuracy: 1.0000 - loss: 0.2298 - val_AUC: 0.0000e+00 - val_accuracy: 1.0000 - val_loss: 0.3606\n",
      "Epoch 74/100\n",
      "\u001b[1m1/1\u001b[0m \u001b[32m━━━━━━━━━━━━━━━━━━━━\u001b[0m\u001b[37m\u001b[0m \u001b[1m0s\u001b[0m 104ms/step - AUC: 1.0000 - accuracy: 1.0000 - loss: 0.2757 - val_AUC: 0.0000e+00 - val_accuracy: 1.0000 - val_loss: 0.3560\n",
      "Epoch 75/100\n",
      "\u001b[1m1/1\u001b[0m \u001b[32m━━━━━━━━━━━━━━━━━━━━\u001b[0m\u001b[37m\u001b[0m \u001b[1m0s\u001b[0m 115ms/step - AUC: 1.0000 - accuracy: 1.0000 - loss: 0.2481 - val_AUC: 0.0000e+00 - val_accuracy: 1.0000 - val_loss: 0.3514\n",
      "Epoch 76/100\n",
      "\u001b[1m1/1\u001b[0m \u001b[32m━━━━━━━━━━━━━━━━━━━━\u001b[0m\u001b[37m\u001b[0m \u001b[1m0s\u001b[0m 101ms/step - AUC: 1.0000 - accuracy: 1.0000 - loss: 0.2314 - val_AUC: 0.0000e+00 - val_accuracy: 1.0000 - val_loss: 0.3468\n",
      "Epoch 77/100\n",
      "\u001b[1m1/1\u001b[0m \u001b[32m━━━━━━━━━━━━━━━━━━━━\u001b[0m\u001b[37m\u001b[0m \u001b[1m0s\u001b[0m 104ms/step - AUC: 1.0000 - accuracy: 1.0000 - loss: 0.2428 - val_AUC: 0.0000e+00 - val_accuracy: 1.0000 - val_loss: 0.3422\n",
      "Epoch 78/100\n",
      "\u001b[1m1/1\u001b[0m \u001b[32m━━━━━━━━━━━━━━━━━━━━\u001b[0m\u001b[37m\u001b[0m \u001b[1m0s\u001b[0m 113ms/step - AUC: 1.0000 - accuracy: 1.0000 - loss: 0.2713 - val_AUC: 0.0000e+00 - val_accuracy: 1.0000 - val_loss: 0.3378\n",
      "Epoch 79/100\n",
      "\u001b[1m1/1\u001b[0m \u001b[32m━━━━━━━━━━━━━━━━━━━━\u001b[0m\u001b[37m\u001b[0m \u001b[1m0s\u001b[0m 107ms/step - AUC: 1.0000 - accuracy: 1.0000 - loss: 0.2352 - val_AUC: 0.0000e+00 - val_accuracy: 1.0000 - val_loss: 0.3327\n",
      "Epoch 80/100\n",
      "\u001b[1m1/1\u001b[0m \u001b[32m━━━━━━━━━━━━━━━━━━━━\u001b[0m\u001b[37m\u001b[0m \u001b[1m0s\u001b[0m 104ms/step - AUC: 1.0000 - accuracy: 1.0000 - loss: 0.2748 - val_AUC: 0.0000e+00 - val_accuracy: 1.0000 - val_loss: 0.3278\n",
      "Epoch 81/100\n",
      "\u001b[1m1/1\u001b[0m \u001b[32m━━━━━━━━━━━━━━━━━━━━\u001b[0m\u001b[37m\u001b[0m \u001b[1m0s\u001b[0m 108ms/step - AUC: 1.0000 - accuracy: 1.0000 - loss: 0.2253 - val_AUC: 0.0000e+00 - val_accuracy: 1.0000 - val_loss: 0.3229\n",
      "Epoch 82/100\n",
      "\u001b[1m1/1\u001b[0m \u001b[32m━━━━━━━━━━━━━━━━━━━━\u001b[0m\u001b[37m\u001b[0m \u001b[1m0s\u001b[0m 105ms/step - AUC: 1.0000 - accuracy: 1.0000 - loss: 0.2386 - val_AUC: 0.0000e+00 - val_accuracy: 1.0000 - val_loss: 0.3181\n",
      "Epoch 83/100\n",
      "\u001b[1m1/1\u001b[0m \u001b[32m━━━━━━━━━━━━━━━━━━━━\u001b[0m\u001b[37m\u001b[0m \u001b[1m0s\u001b[0m 107ms/step - AUC: 1.0000 - accuracy: 1.0000 - loss: 0.2629 - val_AUC: 0.0000e+00 - val_accuracy: 1.0000 - val_loss: 0.3133\n",
      "Epoch 84/100\n",
      "\u001b[1m1/1\u001b[0m \u001b[32m━━━━━━━━━━━━━━━━━━━━\u001b[0m\u001b[37m\u001b[0m \u001b[1m0s\u001b[0m 103ms/step - AUC: 1.0000 - accuracy: 1.0000 - loss: 0.2402 - val_AUC: 0.0000e+00 - val_accuracy: 1.0000 - val_loss: 0.3086\n",
      "Epoch 85/100\n",
      "\u001b[1m1/1\u001b[0m \u001b[32m━━━━━━━━━━━━━━━━━━━━\u001b[0m\u001b[37m\u001b[0m \u001b[1m0s\u001b[0m 96ms/step - AUC: 1.0000 - accuracy: 1.0000 - loss: 0.2593 - val_AUC: 0.0000e+00 - val_accuracy: 1.0000 - val_loss: 0.3040\n",
      "Epoch 86/100\n",
      "\u001b[1m1/1\u001b[0m \u001b[32m━━━━━━━━━━━━━━━━━━━━\u001b[0m\u001b[37m\u001b[0m \u001b[1m0s\u001b[0m 112ms/step - AUC: 1.0000 - accuracy: 1.0000 - loss: 0.2239 - val_AUC: 0.0000e+00 - val_accuracy: 1.0000 - val_loss: 0.2993\n",
      "Epoch 87/100\n",
      "\u001b[1m1/1\u001b[0m \u001b[32m━━━━━━━━━━━━━━━━━━━━\u001b[0m\u001b[37m\u001b[0m \u001b[1m0s\u001b[0m 105ms/step - AUC: 1.0000 - accuracy: 1.0000 - loss: 0.2254 - val_AUC: 0.0000e+00 - val_accuracy: 1.0000 - val_loss: 0.2948\n",
      "Epoch 88/100\n",
      "\u001b[1m1/1\u001b[0m \u001b[32m━━━━━━━━━━━━━━━━━━━━\u001b[0m\u001b[37m\u001b[0m \u001b[1m0s\u001b[0m 105ms/step - AUC: 1.0000 - accuracy: 1.0000 - loss: 0.1965 - val_AUC: 0.0000e+00 - val_accuracy: 1.0000 - val_loss: 0.2903\n",
      "Epoch 89/100\n",
      "\u001b[1m1/1\u001b[0m \u001b[32m━━━━━━━━━━━━━━━━━━━━\u001b[0m\u001b[37m\u001b[0m \u001b[1m0s\u001b[0m 107ms/step - AUC: 1.0000 - accuracy: 1.0000 - loss: 0.1907 - val_AUC: 0.0000e+00 - val_accuracy: 1.0000 - val_loss: 0.2859\n",
      "Epoch 90/100\n",
      "\u001b[1m1/1\u001b[0m \u001b[32m━━━━━━━━━━━━━━━━━━━━\u001b[0m\u001b[37m\u001b[0m \u001b[1m0s\u001b[0m 115ms/step - AUC: 1.0000 - accuracy: 1.0000 - loss: 0.2419 - val_AUC: 0.0000e+00 - val_accuracy: 1.0000 - val_loss: 0.2816\n",
      "Epoch 91/100\n",
      "\u001b[1m1/1\u001b[0m \u001b[32m━━━━━━━━━━━━━━━━━━━━\u001b[0m\u001b[37m\u001b[0m \u001b[1m0s\u001b[0m 106ms/step - AUC: 1.0000 - accuracy: 1.0000 - loss: 0.2237 - val_AUC: 0.0000e+00 - val_accuracy: 1.0000 - val_loss: 0.2774\n",
      "Epoch 92/100\n",
      "\u001b[1m1/1\u001b[0m \u001b[32m━━━━━━━━━━━━━━━━━━━━\u001b[0m\u001b[37m\u001b[0m \u001b[1m0s\u001b[0m 107ms/step - AUC: 1.0000 - accuracy: 1.0000 - loss: 0.2683 - val_AUC: 0.0000e+00 - val_accuracy: 1.0000 - val_loss: 0.2732\n",
      "Epoch 93/100\n",
      "\u001b[1m1/1\u001b[0m \u001b[32m━━━━━━━━━━━━━━━━━━━━\u001b[0m\u001b[37m\u001b[0m \u001b[1m0s\u001b[0m 104ms/step - AUC: 1.0000 - accuracy: 1.0000 - loss: 0.1985 - val_AUC: 0.0000e+00 - val_accuracy: 1.0000 - val_loss: 0.2690\n",
      "Epoch 94/100\n",
      "\u001b[1m1/1\u001b[0m \u001b[32m━━━━━━━━━━━━━━━━━━━━\u001b[0m\u001b[37m\u001b[0m \u001b[1m0s\u001b[0m 101ms/step - AUC: 1.0000 - accuracy: 1.0000 - loss: 0.1789 - val_AUC: 0.0000e+00 - val_accuracy: 1.0000 - val_loss: 0.2647\n",
      "Epoch 95/100\n",
      "\u001b[1m1/1\u001b[0m \u001b[32m━━━━━━━━━━━━━━━━━━━━\u001b[0m\u001b[37m\u001b[0m \u001b[1m0s\u001b[0m 114ms/step - AUC: 1.0000 - accuracy: 1.0000 - loss: 0.2023 - val_AUC: 0.0000e+00 - val_accuracy: 1.0000 - val_loss: 0.2603\n",
      "Epoch 96/100\n",
      "\u001b[1m1/1\u001b[0m \u001b[32m━━━━━━━━━━━━━━━━━━━━\u001b[0m\u001b[37m\u001b[0m \u001b[1m0s\u001b[0m 106ms/step - AUC: 1.0000 - accuracy: 1.0000 - loss: 0.1879 - val_AUC: 0.0000e+00 - val_accuracy: 1.0000 - val_loss: 0.2559\n",
      "Epoch 97/100\n",
      "\u001b[1m1/1\u001b[0m \u001b[32m━━━━━━━━━━━━━━━━━━━━\u001b[0m\u001b[37m\u001b[0m \u001b[1m0s\u001b[0m 107ms/step - AUC: 1.0000 - accuracy: 1.0000 - loss: 0.1549 - val_AUC: 0.0000e+00 - val_accuracy: 1.0000 - val_loss: 0.2515\n",
      "Epoch 98/100\n",
      "\u001b[1m1/1\u001b[0m \u001b[32m━━━━━━━━━━━━━━━━━━━━\u001b[0m\u001b[37m\u001b[0m \u001b[1m0s\u001b[0m 143ms/step - AUC: 1.0000 - accuracy: 1.0000 - loss: 0.2027 - val_AUC: 0.0000e+00 - val_accuracy: 1.0000 - val_loss: 0.2472\n",
      "Epoch 99/100\n",
      "\u001b[1m1/1\u001b[0m \u001b[32m━━━━━━━━━━━━━━━━━━━━\u001b[0m\u001b[37m\u001b[0m \u001b[1m0s\u001b[0m 108ms/step - AUC: 1.0000 - accuracy: 1.0000 - loss: 0.1941 - val_AUC: 0.0000e+00 - val_accuracy: 1.0000 - val_loss: 0.2429\n",
      "Epoch 100/100\n",
      "\u001b[1m1/1\u001b[0m \u001b[32m━━━━━━━━━━━━━━━━━━━━\u001b[0m\u001b[37m\u001b[0m \u001b[1m0s\u001b[0m 109ms/step - AUC: 1.0000 - accuracy: 1.0000 - loss: 0.1469 - val_AUC: 0.0000e+00 - val_accuracy: 1.0000 - val_loss: 0.2387\n"
     ]
    }
   ],
   "source": [
    "es = keras.callbacks.EarlyStopping(\n",
    "    monitor=\"val_loss\", patience=10, restore_best_weights=True\n",
    ")\n",
    "\n",
    "history = model.fit(\n",
    "    X_train, y_train,\n",
    "    validation_data=(X_val, y_val),\n",
    "    epochs=100, batch_size=32,\n",
    "    callbacks=[es], verbose=1\n",
    ")"
   ]
  },
  {
   "cell_type": "code",
   "execution_count": 4,
   "id": "b06ac488",
   "metadata": {},
   "outputs": [
    {
     "name": "stdout",
     "output_type": "stream",
     "text": [
      "Test Acc: 1.0 AUC: 0.0\n",
      "\u001b[1m1/1\u001b[0m \u001b[32m━━━━━━━━━━━━━━━━━━━━\u001b[0m\u001b[37m\u001b[0m \u001b[1m0s\u001b[0m 69ms/step\n",
      "[[2]]\n",
      "              precision    recall  f1-score   support\n",
      "\n",
      "           0      1.000     1.000     1.000         2\n",
      "\n",
      "    accuracy                          1.000         2\n",
      "   macro avg      1.000     1.000     1.000         2\n",
      "weighted avg      1.000     1.000     1.000         2\n",
      "\n"
     ]
    },
    {
     "name": "stderr",
     "output_type": "stream",
     "text": [
      "d:\\machine_learning\\venv\\lib\\site-packages\\sklearn\\metrics\\_classification.py:534: UserWarning: A single label was found in 'y_true' and 'y_pred'. For the confusion matrix to have the correct shape, use the 'labels' parameter to pass all known labels.\n",
      "  warnings.warn(\n"
     ]
    }
   ],
   "source": [
    "from sklearn.metrics import classification_report, confusion_matrix\n",
    "\n",
    "loss, acc, auc = model.evaluate(X_test, y_test, verbose=0)\n",
    "print(\"Test Acc:\", acc, \"AUC:\", auc)\n",
    "\n",
    "y_proba = model.predict(X_test).ravel()\n",
    "y_pred = (y_proba >= 0.5).astype(int)\n",
    "\n",
    "print(confusion_matrix(y_test, y_pred))\n",
    "print(classification_report(y_test, y_pred, digits=3))"
   ]
  },
  {
   "cell_type": "code",
   "execution_count": 5,
   "id": "3531fc89",
   "metadata": {},
   "outputs": [
    {
     "data": {
      "image/png": "[encoded data removed]",
      "text/plain": [
       "<Figure size 640x480 with 1 Axes>"
      ]
     },
     "metadata": {},
     "output_type": "display_data"
    }
   ],
   "source": [
    "import matplotlib.pyplot as plt\n",
    "\n",
    "plt.plot(history.history[\"loss\"], label=\"Train Loss\")\n",
    "plt.plot(history.history[\"val_loss\"], label=\"Val Loss\")\n",
    "plt.xlabel(\"Epoch\"); plt.ylabel(\"Loss\"); plt.legend()\n",
    "plt.title(\"Learning Curve\")\n",
    "plt.tight_layout(); plt.savefig(\"learning_curve.png\", dpi=120)"
   ]
  }
 ],
 "metadata": {
  "kernelspec": {
   "display_name": "venv",
   "language": "python",
   "name": "python3"
  },
  "language_info": {
   "codemirror_mode": {
    "name": "ipython",
    "version": 3
   },
   "file_extension": ".py",
   "mimetype": "text/x-python",
   "name": "python",
   "nbconvert_exporter": "python",
   "pygments_lexer": "ipython3",
   "version": "3.10.11"
  }
 },
 "nbformat": 4,
 "nbformat_minor": 5
}
